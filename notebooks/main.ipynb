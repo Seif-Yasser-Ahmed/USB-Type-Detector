version https://git-lfs.github.com/spec/v1
oid sha256:e7c4859a30411452055b5a675718a871eaf4a9cdaa9af50a4413c674c5450b2e
size 15823721
