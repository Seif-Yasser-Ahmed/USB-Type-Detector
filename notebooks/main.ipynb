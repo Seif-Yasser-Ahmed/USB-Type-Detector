version https://git-lfs.github.com/spec/v1
oid sha256:96d6646ac5fb3200190b64891265e9bf4b3ad23878025ae5164c457570d46ba8
size 1832347
