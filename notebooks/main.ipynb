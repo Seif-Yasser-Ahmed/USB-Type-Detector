version https://git-lfs.github.com/spec/v1
oid sha256:402f2039991b35af442483750494ad8fb0c95a9f076aec583d1b405c3c12d31b
size 1832347
