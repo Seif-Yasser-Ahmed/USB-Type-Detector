version https://git-lfs.github.com/spec/v1
oid sha256:d8f0a6c536b5983fdb06753bb5521ce709d0f9f875400dc88515f0aea8d59463
size 751974
