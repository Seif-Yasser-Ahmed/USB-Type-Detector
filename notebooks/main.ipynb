version https://git-lfs.github.com/spec/v1
oid sha256:6bce48f68fb9cd6846c423ef92df4346585f53ca8aed1c2ade8efcf19dc56845
size 116709
