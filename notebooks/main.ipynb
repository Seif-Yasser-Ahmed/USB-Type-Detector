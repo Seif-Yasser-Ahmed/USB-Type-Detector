version https://git-lfs.github.com/spec/v1
oid sha256:c62d65153bc1d65720a022f373846924e01f6bd8fa48daf8f6f78e53645377db
size 2117261
