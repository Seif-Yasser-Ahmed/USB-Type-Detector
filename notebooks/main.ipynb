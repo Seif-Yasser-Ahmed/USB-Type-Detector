version https://git-lfs.github.com/spec/v1
oid sha256:afd62f97842b513dc6ce8bac12f22a4ca85307a4f1bbf822d3c7a5f405ff63ee
size 64612886
