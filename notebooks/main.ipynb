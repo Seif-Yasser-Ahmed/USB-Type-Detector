version https://git-lfs.github.com/spec/v1
oid sha256:9548e1b030025113bfb86d54cc20eed1c8d2898800cbc9cf117f8689718a04a8
size 130167509
