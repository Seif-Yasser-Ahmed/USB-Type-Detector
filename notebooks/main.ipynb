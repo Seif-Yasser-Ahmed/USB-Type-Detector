version https://git-lfs.github.com/spec/v1
oid sha256:8479a35860308e706e569244346564823aa80199242b7a7aad64faaa3dc4ad0e
size 113869603
