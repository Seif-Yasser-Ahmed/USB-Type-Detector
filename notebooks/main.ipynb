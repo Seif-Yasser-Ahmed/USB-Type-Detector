version https://git-lfs.github.com/spec/v1
oid sha256:cad1399f7ace5697cb37ede32f611b137286ddaac8b6cfc902f194e7e2ed2dea
size 2459691
