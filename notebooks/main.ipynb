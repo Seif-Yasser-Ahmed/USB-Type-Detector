version https://git-lfs.github.com/spec/v1
oid sha256:febda8f1adc50e7bec50cf97474e2e8d81e25e8ea733b5c7cd627bdcf0bb62ec
size 172452
