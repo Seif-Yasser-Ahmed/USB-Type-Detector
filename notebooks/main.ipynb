version https://git-lfs.github.com/spec/v1
oid sha256:f3287846f4a256854e7578d348f00037dde05bf2e45f5afc65e46ce2e22334e1
size 196358
