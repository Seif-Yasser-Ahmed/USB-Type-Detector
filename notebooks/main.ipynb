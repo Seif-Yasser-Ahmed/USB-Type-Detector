version https://git-lfs.github.com/spec/v1
oid sha256:e1a1a2985ebb6c80342153f06aff5e7a410291e84a40175156057da5bbc18e33
size 15830873
