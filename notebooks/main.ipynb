version https://git-lfs.github.com/spec/v1
oid sha256:56f177bb06244c36e185ef71ee93703908d83290d07628483e613adc70e7b00e
size 18471956
