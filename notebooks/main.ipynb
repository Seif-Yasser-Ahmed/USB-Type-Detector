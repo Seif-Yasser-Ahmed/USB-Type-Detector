version https://git-lfs.github.com/spec/v1
oid sha256:1d20c21fa3287fab8511768f1be9bfb2961ef4c4d79f1e8e85b614e1f177ef55
size 64287143
