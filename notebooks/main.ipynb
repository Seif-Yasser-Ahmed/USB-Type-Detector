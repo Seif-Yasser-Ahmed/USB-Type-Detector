version https://git-lfs.github.com/spec/v1
oid sha256:a75e95564364a241ec5b2ab4a06377a8bd94fbec3b51223416a3c085a0052918
size 202578
