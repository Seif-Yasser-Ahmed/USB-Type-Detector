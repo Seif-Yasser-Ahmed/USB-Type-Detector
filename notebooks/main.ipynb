version https://git-lfs.github.com/spec/v1
oid sha256:dcaad599c3ed75ee9e922488e4cd9123fdb49906498585c28a7413a31d78c718
size 114612339
