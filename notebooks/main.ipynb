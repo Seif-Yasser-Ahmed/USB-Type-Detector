version https://git-lfs.github.com/spec/v1
oid sha256:3b0d65ad2b4234af3fa1b55618aa285cbb9784c84f8ca2cfc12ed0e23ee804c5
size 3414937
