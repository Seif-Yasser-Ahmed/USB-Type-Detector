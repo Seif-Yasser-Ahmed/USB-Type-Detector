version https://git-lfs.github.com/spec/v1
oid sha256:79139cd77e61112fa838727b653feea37dac972070ecb5986bb93712e753fcc1
size 2119119
