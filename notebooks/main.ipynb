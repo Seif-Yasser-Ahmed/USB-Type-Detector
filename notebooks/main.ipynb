version https://git-lfs.github.com/spec/v1
oid sha256:693380c82db7fe2a22a7dc5f53513634296165ebab89c68fa572bfb38efe6afa
size 3415236
