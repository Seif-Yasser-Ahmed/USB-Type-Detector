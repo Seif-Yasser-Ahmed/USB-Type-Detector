version https://git-lfs.github.com/spec/v1
oid sha256:39c0b28ee643d3e7c81928786dc7603f536f04647b2810edca2be7d0927eaeef
size 41947758
